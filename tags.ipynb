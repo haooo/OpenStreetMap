{
 "cells": [
  {
   "cell_type": "code",
   "execution_count": 2,
   "metadata": {},
   "outputs": [
    {
     "name": "stdout",
     "output_type": "stream",
     "text": [
      "Hours Of Operation\n",
      "payments accepted\n",
      "FR 5\n",
      "{'lower': 1635966, 'lower_colon': 937780, 'other': 13503, 'problemchars': 3}\n"
     ]
    }
   ],
   "source": [
    "import xml.etree.cElementTree as ET\n",
    "import pprint\n",
    "import re\n",
    "\n",
    "from collections import defaultdict\n",
    "\n",
    "lower = re.compile(r'^([a-z]|_)*$')\n",
    "lower_colon = re.compile(r'^([a-z]|_)+:([a-z]|_)+')\n",
    "problemchars = re.compile(r'[=\\+/&<>;\\'\"\\?%#$@\\,\\. \\t\\r\\n]')\n",
    "\n",
    "OSMFILE = \"phoenix_arizona.osm\"\n",
    "\n",
    "def key_type(element, keys):\n",
    "    if element.tag == \"tag\":\n",
    "        tag = element.attrib['k']\n",
    "        if re.search(lower, tag):\n",
    "            keys['lower'] += 1\n",
    "        elif re.search(lower_colon, tag):\n",
    "            keys['lower_colon'] +=1\n",
    "        elif re.search(problemchars, tag):\n",
    "            keys['problemchars']+=1\n",
    "            print tag\n",
    "        else:\n",
    "            keys['other']+=1\n",
    "            pass\n",
    "    return keys\n",
    "\n",
    "def process_map(filename):\n",
    "    keys = {\"lower\": 0, \"lower_colon\": 0, \"problemchars\": 0, \"other\": 0}\n",
    "    for _, element in ET.iterparse(filename):\n",
    "        keys = key_type(element, keys)\n",
    "\n",
    "    return keys\n",
    "\n",
    "pprint.pprint(process_map(OSMFILE))"
   ]
  }
 ],
 "metadata": {
  "kernelspec": {
   "display_name": "Python [conda env:py27]",
   "language": "python",
   "name": "conda-env-py27-py"
  },
  "language_info": {
   "codemirror_mode": {
    "name": "ipython",
    "version": 2
   },
   "file_extension": ".py",
   "mimetype": "text/x-python",
   "name": "python",
   "nbconvert_exporter": "python",
   "pygments_lexer": "ipython2",
   "version": "2.7.13"
  }
 },
 "nbformat": 4,
 "nbformat_minor": 2
}
